{
  "cells": [
    {
      "cell_type": "markdown",
      "metadata": {
        "id": "havFsrqzlXPy"
      },
      "source": [
        "# Optimization Techniques on MNIST Dataset\n",
        "This notebook explores various optimization techniques for training neural networks on the MNIST dataset. The focus will be on different optimization strategies including Adaptive Learning Rates, SGD, Mini-Batch Gradient Descent, and Learning Rate Adjustments. Each section will provide a practical task related to these techniques."
      ]
    },
    {
      "cell_type": "code",
      "execution_count": 26,
      "metadata": {
        "id": "ywjE9LpmlXP1"
      },
      "outputs": [],
      "source": [
        "import tensorflow as tf\n",
        "import numpy as np\n",
        "import matplotlib.pyplot as plt\n",
        "import time as time\n",
        "\n",
        "# Load Fashion MNIST dataset\n",
        "(x_train, y_train), (x_test, y_test) = tf.keras.datasets.fashion_mnist.load_data()\n",
        "\n",
        "# Normalize data\n",
        "x_train, x_test = x_train / 255.0, x_test / 255.0\n",
        "\n",
        "# One-hot encode labels\n",
        "y_train = tf.keras.utils.to_categorical(y_train, 10)\n",
        "y_test = tf.keras.utils.to_categorical(y_test, 10)\n"
      ]
    },
    {
      "cell_type": "markdown",
      "metadata": {
        "id": "a0m-O26vn9cx"
      },
      "source": [
        "## Adaptive Learning Rates"
      ]
    },
    {
      "cell_type": "markdown",
      "metadata": {
        "id": "4rNvoHEDlXP2"
      },
      "source": [
        "## Implementing a Simple Neural Network from Scratch"
      ]
    },
    {
      "cell_type": "markdown",
      "metadata": {
        "id": "8IMMs-s6lXP2"
      },
      "source": [
        "### Building the Network\n",
        "Define the architecture of a simple feedforward neural network with one hidden layer. You will need to manually initialize the weights and biases.\n",
        "\n",
        "**TODO:** Initialize Parameters\n",
        "Objective: Create a function to initialize weights and biases for all layers of the network.\n",
        "Instructions:\n",
        "- Initialize weights with small random values and biases with zeros.\n",
        "- Use numpy for creating arrays and operations.\n",
        "\n",
        "Hint: Use np.random.randn for weights and np.zeros for biases. Scale weights by 0.1."
      ]
    },
    {
      "cell_type": "code",
      "execution_count": 2,
      "metadata": {
        "id": "HEUr0figlXP3"
      },
      "outputs": [],
      "source": [
        "def initialize_parameters(input_size, hidden_size, output_size):\n",
        "    \"\"\"\n",
        "    Initialize weights and biases for a simple feedforward neural network.\n",
        "\n",
        "    Parameters:\n",
        "    - input_size: Number of input features.\n",
        "    - hidden_size: Number of neurons in the hidden layer.\n",
        "    - output_size: Number of output classes.\n",
        "\n",
        "    Returns:\n",
        "    - parameters: A dictionary containing weights and biases.\n",
        "    \"\"\"\n",
        "    w1 = 0.1 * np.random.randn(input_size, hidden_size)\n",
        "    b1 = np.zeros((1, hidden_size))\n",
        "\n",
        "    w2 = 0.1 * np.random.randn(hidden_size, output_size)\n",
        "    b2 = np.zeros((1, output_size))\n",
        "\n",
        "    parameters = {\"w1\": w1,\"b1\": b1, \"w2\": w2, \"b2\": b2}\n",
        "\n",
        "    return parameters"
      ]
    },
    {
      "cell_type": "markdown",
      "metadata": {
        "id": "bDvfRCVq-74-"
      },
      "source": [
        "\n",
        "TODO: Define Activation Functions\n",
        "Objective: Implement commonly used activation functions.\n",
        "Instructions:\n",
        " - Define the ReLU and Sigmoid activation functions.\n",
        " - Ensure each function works with numpy arrays and supports both forward and derivative (gradient) computations.\n"
      ]
    },
    {
      "cell_type": "code",
      "execution_count": 3,
      "metadata": {
        "id": "qIBwOlH6_Jg4"
      },
      "outputs": [],
      "source": [
        "def relu(x):\n",
        "    \"\"\"\n",
        "    ReLU activation function.\n",
        "\n",
        "    Parameters:\n",
        "    - x: Input numpy array.\n",
        "\n",
        "    Returns:\n",
        "    - Output after applying ReLU.\n",
        "    \"\"\"\n",
        "    return np.maximum(0, x)\n",
        "\n",
        "def relu_derivative(x):\n",
        "    \"\"\"\n",
        "    Derivative of ReLU activation function.\n",
        "\n",
        "    Parameters:\n",
        "    - x: Input numpy array.\n",
        "\n",
        "    Returns:\n",
        "    - Derivative of ReLU.\n",
        "    \"\"\"\n",
        "    return (x > 0).astype(float)\n",
        "\n",
        "def sigmoid(x):\n",
        "    \"\"\"\n",
        "    Sigmoid activation function.\n",
        "\n",
        "    Parameters:\n",
        "    - x: Input numpy array.\n",
        "\n",
        "    Returns:\n",
        "    - Output after applying sigmoid.\n",
        "    \"\"\"\n",
        "    return 1 / (1 + np.exp(-x))\n",
        "\n",
        "def sigmoid_derivative(x):\n",
        "    \"\"\"\n",
        "    Derivative of sigmoid activation function.\n",
        "\n",
        "    Parameters:\n",
        "    - x: Input numpy array.\n",
        "\n",
        "    Returns:\n",
        "    - Derivative of sigmoid.\n",
        "    \"\"\"\n",
        "    s = sigmoid(x)\n",
        "    return s * (1 - s)\n"
      ]
    },
    {
      "cell_type": "markdown",
      "metadata": {
        "id": "h6HxkvToEDjr"
      },
      "source": [
        "TODO: Perform forward propagation through the network.\n",
        "\n",
        "    Parameters:\n",
        "    - X: Input data (shape: number of examples x input size).\n",
        "    - parameters: Dictionary containing weights and biases.\n",
        "\n",
        "    Returns:\n",
        "    - A2: Output of the network (after activation).\n",
        "    - cache: Dictionary containing intermediate values for backpropagation."
      ]
    },
    {
      "cell_type": "code",
      "execution_count": 4,
      "metadata": {
        "id": "4ylVbZoXECpn"
      },
      "outputs": [],
      "source": [
        "def forward_propagation(X, parameters):\n",
        "    \"\"\"\n",
        "    Perform forward propagation through the network.\n",
        "\n",
        "    Parameters:\n",
        "    - X: Input data (shape: number of examples x input size).\n",
        "    - parameters: Dictionary containing weights and biases.\n",
        "\n",
        "    Returns:\n",
        "    - A2: Output of the network (after activation).\n",
        "    - cache: Dictionary containing intermediate values for backpropagation.\n",
        "    \"\"\"\n",
        "    X = X.reshape(X.shape[0], -1)\n",
        "    Z1 = np.dot(X, parameters['w1']) + parameters['b1']\n",
        "    A1 = relu(Z1)\n",
        "\n",
        "\n",
        "    Z2 = np.dot(A1, parameters['w2']) + parameters['b2']\n",
        "    A2 = sigmoid(Z2)\n",
        "\n",
        "\n",
        "    cache = {\"Z1\": Z1, \"A1\": A1, \"Z2\": Z2, \"A2\": A2}\n",
        "\n",
        "    return A2, cache"
      ]
    },
    {
      "cell_type": "markdown",
      "metadata": {
        "id": "-KtURRNUC_NP"
      },
      "source": [
        "TODO: Implement the loss function. Compute the categorical cross-entropy loss.\n",
        "\n",
        "    Parameters:\n",
        "    - y_true: True labels (one-hot encoded).\n",
        "    - y_pred: Predicted probabilities (output of the network).\n",
        "\n",
        "    Returns:\n",
        "    - loss: Computed loss."
      ]
    },
    {
      "cell_type": "code",
      "execution_count": 5,
      "metadata": {
        "id": "advoE8kEC-vk"
      },
      "outputs": [],
      "source": [
        "def compute_loss(y_true, y_pred):\n",
        "    \"\"\"\n",
        "    Compute the categorical cross-entropy loss.\n",
        "\n",
        "    Parameters:\n",
        "    - y_true: True labels (one-hot encoded).\n",
        "    - y_pred: Predicted probabilities (output of the network).\n",
        "\n",
        "    Returns:\n",
        "    - loss: Computed loss.\n",
        "    \"\"\"\n",
        "    clipped_pred = np.clip(y_pred, 1e-12, 1.0)\n",
        "    loss = -np.mean(np.sum(y_true * np.log(clipped_pred), axis=1))\n",
        "\n",
        "    return loss\n"
      ]
    },
    {
      "cell_type": "markdown",
      "metadata": {
        "id": "s5V1D0jUDK3B"
      },
      "source": [
        "TODO: Implement backpropagation for the network and Perform backward propagation through the network.\n",
        "\n",
        "    Parameters:\n",
        "    - X: Input data.\n",
        "    - y_true: True labels.\n",
        "    - parameters: Dictionary containing weights and biases.\n",
        "    - cache: Intermediate values from forward propagation.\n",
        "\n",
        "    Returns:\n",
        "    - gradients: Dictionary containing gradients for weights and biases."
      ]
    },
    {
      "cell_type": "code",
      "execution_count": 6,
      "metadata": {
        "id": "4CxAo9FlBG18"
      },
      "outputs": [],
      "source": [
        "def backward_propagation(X, y_true, parameters, cache):\n",
        "    \"\"\"\n",
        "    Perform backward propagation through the network.\n",
        "\n",
        "    Parameters:\n",
        "    - X: Input data.\n",
        "    - y_true: True labels.\n",
        "    - parameters: Dictionary containing weights and biases.\n",
        "    - cache: Intermediate values from forward propagation.\n",
        "\n",
        "    Returns:\n",
        "    - gradients: Dictionary containing gradients for weights and biases.\n",
        "    \"\"\"\n",
        "    X = X.reshape(X.shape[0], -1)\n",
        "\n",
        "    dloss = cache['A2'] - y_true\n",
        "\n",
        "\n",
        "    dw2 = np.dot(cache['A1'].T, dloss) / X.shape[0]\n",
        "    db2 = np.sum(dloss, axis=0, keepdims=True) / X.shape[0]\n",
        "\n",
        "    dA1 = np.dot(dloss, parameters['w2'].T)\n",
        "    dZ1 = dA1 * relu_derivative(cache['Z1'])\n",
        "\n",
        "\n",
        "    dw1 = np.dot(X.T, dZ1) / X.shape[0]\n",
        "    db1 = np.sum(dZ1, axis=0, keepdims=True) / X.shape[0]\n",
        "\n",
        "    gradients = {\"dw1\": dw1, \"db1\": db1, \"dw2\": dw2, \"db2\": db2}\n",
        "\n",
        "    return gradients"
      ]
    },
    {
      "cell_type": "markdown",
      "metadata": {
        "id": "LG2cvi3DDe4Q"
      },
      "source": [
        "TODO: Update the parameters using gradient descent.\n",
        "\n",
        "    Parameters:\n",
        "    - parameters: Current weights and biases.\n",
        "    - gradients: Calculated gradients.\n",
        "    - learning_rate: Learning rate for updates.\n",
        "\n",
        "    Returns:\n",
        "    - parameters: Updated weights and biases."
      ]
    },
    {
      "cell_type": "code",
      "execution_count": 7,
      "metadata": {
        "id": "9uMGXPGqDdk4"
      },
      "outputs": [],
      "source": [
        "def update_parameters(parameters, gradients, learning_rate=0.01):\n",
        "    \"\"\"\n",
        "    Update parameters using gradient descent.\n",
        "\n",
        "    Parameters:\n",
        "    - parameters: Current weights and biases.\n",
        "    - gradients: Calculated gradients.\n",
        "    - learning_rate: Learning rate for updates.\n",
        "\n",
        "    Returns:\n",
        "    - parameters: Updated weights and biases.\n",
        "    \"\"\"\n",
        "    for key in parameters:\n",
        "        parameters[key] -= learning_rate * gradients[f\"d{key}\"]\n",
        "\n",
        "    return parameters\n"
      ]
    },
    {
      "cell_type": "markdown",
      "metadata": {
        "id": "5E4UZg1SD2bM"
      },
      "source": [
        "TODO: Train the model by changing the hidden layer size (such as [32, 64, 128]) and observe the impact on network performance during training.\n",
        "\n",
        "    Train the neural network model.\n",
        "\n",
        "    Parameters:\n",
        "    - X_train: Training data.\n",
        "    - y_train: One-hot encoded labels.\n",
        "    - hidden_size: Number of neurons in the hidden layer.\n",
        "    - epochs: Number of training epochs.\n",
        "    - learning_rate: Learning rate for optimization."
      ]
    },
    {
      "cell_type": "code",
      "execution_count": 8,
      "metadata": {
        "id": "GlsAvdUCDzSb"
      },
      "outputs": [],
      "source": [
        "# Training Loop\n",
        "def train_model(X_train, y_train, hidden_size, epochs=50, learning_rate=0.01):\n",
        "    \"\"\"\n",
        "    Train the neural network model.\n",
        "\n",
        "    Parameters:\n",
        "    - X_train: Training data.\n",
        "    - y_train: One-hot encoded labels.\n",
        "    - hidden_size: Number of neurons in the hidden layer.\n",
        "    - epochs: Number of training epochs.\n",
        "    - learning_rate: Learning rate for optimization.\n",
        "    \"\"\"\n",
        "\n",
        "\n",
        "    input_size = X_train.shape[1] * X_train.shape[2]\n",
        "    output_size = y_train.shape[1]\n",
        "    parameters = initialize_parameters(input_size, hidden_size, output_size)\n",
        "\n",
        "    losses = []\n",
        "\n",
        "    for epoch in range(epochs):\n",
        "        A2, cache = forward_propagation(X_train, parameters)\n",
        "\n",
        "        loss = compute_loss(y_train, A2)\n",
        "        losses.append(loss)\n",
        "\n",
        "        grad = backward_propagation(X_train, y_train, parameters, cache)\n",
        "\n",
        "        param = update_parameters(parameters, grad, learning_rate)\n",
        "\n",
        "        if (epoch) % 10 == 0 or epoch == 0:\n",
        "            print(f\"Epoch {epoch} - Loss: {loss:.4f}\")\n",
        "\n",
        "    return param, losses\n",
        "\n",
        "    hidden_size = [32, 64, 128]\n",
        "    for size in hidden_size:\n",
        "        print(f\"\\nTraining with hidden layer size: {size}\")\n",
        "        _, loss = train_model(x_train, y_train, size)\n"
      ]
    },
    {
      "cell_type": "code",
      "source": [
        "# Training with hidden layer size: 32\n",
        "print(\"Training with hidden layer size: 32\")\n",
        "parameters_32 = train_model(x_train, y_train, hidden_size=32)\n",
        "\n",
        "# Training with hidden layer size: 64\n",
        "print(\"\\nTraining with hidden layer size: 64\")\n",
        "parameters_64 = train_model(x_train, y_train, hidden_size=64)\n",
        "\n",
        "# Training with hidden layer size: 128\n",
        "print(\"\\nTraining with hidden layer size: 128\")\n",
        "parameters_128 = train_model(x_train, y_train, hidden_size=128)\n"
      ],
      "metadata": {
        "colab": {
          "base_uri": "https://localhost:8080/"
        },
        "id": "QvW8AwHft9LB",
        "outputId": "4194be4a-27f7-489a-9079-f270703afe0c"
      },
      "execution_count": 9,
      "outputs": [
        {
          "output_type": "stream",
          "name": "stdout",
          "text": [
            "Training with hidden layer size: 32\n",
            "Epoch 0 - Loss: 0.6808\n",
            "Epoch 10 - Loss: 1.2351\n",
            "Epoch 20 - Loss: 1.7819\n",
            "Epoch 30 - Loss: 1.9917\n",
            "Epoch 40 - Loss: 2.0377\n",
            "\n",
            "Training with hidden layer size: 64\n",
            "Epoch 0 - Loss: 0.8916\n",
            "Epoch 10 - Loss: 1.6052\n",
            "Epoch 20 - Loss: 1.8839\n",
            "Epoch 30 - Loss: 1.9212\n",
            "Epoch 40 - Loss: 1.8805\n",
            "\n",
            "Training with hidden layer size: 128\n",
            "Epoch 0 - Loss: 0.9095\n",
            "Epoch 10 - Loss: 1.8138\n",
            "Epoch 20 - Loss: 1.8762\n",
            "Epoch 30 - Loss: 1.7855\n",
            "Epoch 40 - Loss: 1.6788\n"
          ]
        }
      ]
    },
    {
      "cell_type": "markdown",
      "metadata": {
        "id": "YuCNlJCHKf1S"
      },
      "source": [
        "TODO: Implement Adam Optimizer\n",
        "\n",
        "1. Initialize Parameters: Create variables to store the moment estimates (first and second) for each parameter.\n",
        "\n",
        "    Parameters:\n",
        "    - parameters: Dictionary containing weights and biases.\n",
        "\n",
        "    Returns:\n",
        "    - v: First moment vector (initialized to zeros).\n",
        "    - s: Second moment vector (initialized to zeros).\n",
        "    - t: Time step (initialized to 0).\n",
        "\n",
        "2. Update Rules: Implement the update rules based on the gradients, learning rate, and moment estimates.\n"
      ]
    },
    {
      "cell_type": "code",
      "execution_count": 10,
      "metadata": {
        "id": "Iqy1_rfsKP8b"
      },
      "outputs": [],
      "source": [
        "def initialize_adam(parameters):\n",
        "    \"\"\"\n",
        "    Initialize the Adam optimizer variables.\n",
        "\n",
        "    Parameters:\n",
        "    - parameters: Dictionary containing weights and biases.\n",
        "\n",
        "    Returns:\n",
        "    - v: First moment vector (initialized to zeros).\n",
        "    - s: Second moment vector (initialized to zeros).\n",
        "    - t: Time step (initialized to 0).\n",
        "    \"\"\"\n",
        "    v = {}\n",
        "    s = {}\n",
        "    t = 0\n",
        "\n",
        "    for key in parameters:\n",
        "        v[key] = np.zeros_like(parameters[key])\n",
        "        s[key] = np.zeros_like(parameters[key])\n",
        "\n",
        "    return v, s, t\n",
        "\n",
        "\n",
        "def update_parameters_with_adam(parameters, gradients, v, s, t, learning_rate=0.001, beta1=0.9, beta2=0.999, epsilon=1e-8):\n",
        "    \"\"\"\n",
        "    Update parameters using the Adam optimizer.\n",
        "\n",
        "    Parameters:\n",
        "    - parameters: Current weights and biases.\n",
        "    - gradients: Calculated gradients.\n",
        "    - v: First moment vector.\n",
        "    - s: Second moment vector.\n",
        "    - t: Time step.\n",
        "    - learning_rate: Learning rate for updates.\n",
        "    - beta1: Exponential decay rate for the first moment estimates.\n",
        "    - beta2: Exponential decay rate for the second moment estimates.\n",
        "    - epsilon: Small constant for numerical stability.\n",
        "\n",
        "    Returns:\n",
        "    - parameters: Updated weights and biases.\n",
        "    - v: Updated first moment vector.\n",
        "    - s: Updated second moment vector.\n",
        "    - t: Updated time step.\n",
        "    \"\"\"\n",
        "    t += 1\n",
        "    for key in parameters:\n",
        "        v[key] = beta1 * v[key] + (1 - beta1) * gradients[f\"d{key}\"]\n",
        "        s[key] = beta2 * s[key] + (1 - beta2) * (gradients[f\"d{key}\"] ** 2)\n",
        "\n",
        "        v_hat = v[key] / (1 - beta1 ** t)\n",
        "        s_hat = s[key] / (1 - beta2 ** t)\n",
        "\n",
        "        parameters[key] -= learning_rate * v_hat / (np.sqrt(s_hat) + epsilon)\n",
        "\n",
        "    return parameters, v, s, t\n"
      ]
    },
    {
      "cell_type": "markdown",
      "metadata": {
        "id": "2gwCOxsaydX8"
      },
      "source": []
    },
    {
      "cell_type": "markdown",
      "metadata": {
        "id": "-mU6NQXdLQd_"
      },
      "source": [
        "TODO: Implement Adam optimizer into the training loop."
      ]
    },
    {
      "cell_type": "code",
      "execution_count": 11,
      "metadata": {
        "id": "NMPqxphzKSv8"
      },
      "outputs": [],
      "source": [
        "def train_model_with_adam(X_train, y_train, hidden_size, epochs=50, learning_rate=0.001):\n",
        "    \"\"\"\n",
        "    Train the neural network model using Adam optimizer.\n",
        "\n",
        "    Parameters:\n",
        "    - X_train: Training data.\n",
        "    - y_train: One-hot encoded labels.\n",
        "    - hidden_size: Number of neurons in the hidden layer.\n",
        "    - epochs: Number of training epochs.\n",
        "    - learning_rate: Learning rate for optimization.\n",
        "    \"\"\"\n",
        "    input_size = X_train.shape[1] * X_train.shape[2]\n",
        "    output_size = y_train.shape[1]\n",
        "\n",
        "    parameters = initialize_parameters(input_size, hidden_size, output_size)\n",
        "    v, s, t = initialize_adam(parameters)\n",
        "\n",
        "    losses = []\n",
        "\n",
        "    for epoch in range(epochs):\n",
        "        A3, cache = forward_propagation(X_train, parameters)\n",
        "\n",
        "        loss = compute_loss(y_train, A3)\n",
        "        losses.append(loss)\n",
        "\n",
        "        gradients = backward_propagation(X_train, y_train, parameters, cache)\n",
        "\n",
        "        parameters, v, s, t = update_parameters_with_adam(\n",
        "            parameters, gradients, v, s, t, learning_rate\n",
        "        )\n",
        "\n",
        "        if (epoch) % 10 == 0 or epoch == 0:\n",
        "            print(f\"Epoch {epoch}, Loss: {loss:.4f}\")\n",
        "\n",
        "    return parameters, losses\n"
      ]
    },
    {
      "cell_type": "code",
      "execution_count": 12,
      "metadata": {
        "colab": {
          "base_uri": "https://localhost:8080/"
        },
        "id": "uA4l9SlqxTsJ",
        "outputId": "608ce7e2-eb64-48c9-9291-c44d85ec3a32"
      },
      "outputs": [
        {
          "output_type": "stream",
          "name": "stdout",
          "text": [
            "Training with hidden layer size: 32\n",
            "Epoch 0, Loss: 0.8941\n",
            "Epoch 10, Loss: 1.6132\n",
            "Epoch 20, Loss: 2.1285\n",
            "Epoch 30, Loss: 1.6513\n",
            "Epoch 40, Loss: 1.1970\n",
            "\n",
            "Training with hidden layer size: 64\n",
            "Epoch 0, Loss: 0.6900\n",
            "Epoch 10, Loss: 2.0018\n",
            "Epoch 20, Loss: 2.0919\n",
            "Epoch 30, Loss: 1.3547\n",
            "Epoch 40, Loss: 1.1114\n",
            "\n",
            "Training with hidden layer size: 128\n",
            "Epoch 0, Loss: 0.8477\n",
            "Epoch 10, Loss: 2.3169\n",
            "Epoch 20, Loss: 1.1521\n",
            "Epoch 30, Loss: 1.0034\n",
            "Epoch 40, Loss: 0.8995\n"
          ]
        }
      ],
      "source": [
        "# Training with hidden layer size: 32\n",
        "print(\"Training with hidden layer size: 32\")\n",
        "parameters_32 = train_model_with_adam(x_train, y_train, hidden_size=32)\n",
        "\n",
        "# Training with hidden layer size: 64\n",
        "print(\"\\nTraining with hidden layer size: 64\")\n",
        "parameters_64 = train_model_with_adam(x_train, y_train, hidden_size=64)\n",
        "\n",
        "# Training with hidden layer size: 128\n",
        "print(\"\\nTraining with hidden layer size: 128\")\n",
        "parameters_128 = train_model_with_adam(x_train, y_train, hidden_size=128)\n"
      ]
    },
    {
      "cell_type": "markdown",
      "metadata": {
        "id": "fEZVkGGplXP4"
      },
      "source": [
        "### Compare Adam and RMSprop\n"
      ]
    },
    {
      "cell_type": "markdown",
      "metadata": {
        "id": "7BxQoqf8ak2k"
      },
      "source": [
        "TODO: First, implement the RMSprop optimizer. The RMSprop optimizer uses a moving average of squared gradients to normalize the gradient, which helps to stabilize the updates."
      ]
    },
    {
      "cell_type": "code",
      "execution_count": 13,
      "metadata": {
        "id": "117xMpE6avQ2"
      },
      "outputs": [],
      "source": [
        "def initialize_rmsprop(parameters):\n",
        "    \"\"\"\n",
        "    Initialize the RMSprop variables.\n",
        "\n",
        "    Parameters:\n",
        "    - parameters: Dictionary containing weights and biases.\n",
        "\n",
        "    Returns:\n",
        "    - s: Second moment vector (initialized to zeros).\n",
        "    \"\"\"\n",
        "    s = {}\n",
        "    for key in parameters:\n",
        "        s[key] = np.zeros_like(parameters[key])\n",
        "\n",
        "    return s\n",
        "\n",
        "def update_parameters_with_rmsprop(parameters, gradients, s, learning_rate=0.001, beta=0.9, epsilon=1e-8):\n",
        "    \"\"\"\n",
        "    Update parameters using the RMSprop optimizer.\n",
        "\n",
        "    Parameters:\n",
        "    - parameters: Current weights and biases.\n",
        "    - gradients: Calculated gradients.\n",
        "    - s: Second moment vector.\n",
        "    - learning_rate: Learning rate for updates.\n",
        "    - beta: Exponential decay rate for the second moment estimates.\n",
        "    - epsilon: Small constant for numerical stability.\n",
        "\n",
        "    Returns:\n",
        "    - parameters: Updated weights and biases.\n",
        "    - s: Updated second moment vector.\n",
        "    \"\"\"\n",
        "    for key in parameters:\n",
        "        s[key] = beta * s[key] + (1 - beta) * (gradients[f\"d{key}\"] ** 2)\n",
        "\n",
        "        parameters[key] -= learning_rate * gradients[f\"d{key}\"] / (np.sqrt(s[key]) + epsilon)\n",
        "\n",
        "    return parameters, s\n"
      ]
    },
    {
      "cell_type": "markdown",
      "metadata": {
        "id": "GWJg1GjFayY2"
      },
      "source": [
        "TODO: Modify the training loop to allow for both optimizers and store the loss history for comparison."
      ]
    },
    {
      "cell_type": "code",
      "execution_count": 14,
      "metadata": {
        "id": "iwcuRTkja5pT"
      },
      "outputs": [],
      "source": [
        "def train_model(X_train, y_train, hidden_size, epochs=50, learning_rate=0.001, optimizer='adam'):\n",
        "    \"\"\"\n",
        "    Train the neural network model using specified optimizer.\n",
        "\n",
        "    Parameters:\n",
        "    - X_train: Training data.\n",
        "    - y_train: One-hot encoded labels.\n",
        "    - hidden_size: Number of neurons in the hidden layer.\n",
        "    - epochs: Number of training epochs.\n",
        "    - learning_rate: Learning rate for optimization.\n",
        "    - optimizer: The optimizer to use ('adam' or 'rmsprop').\n",
        "\n",
        "    Returns:\n",
        "    - loss_history: List of loss values over epochs.\n",
        "    \"\"\"\n",
        "    input_size = X_train.shape[1] * X_train.shape[2]\n",
        "    output_size = y_train.shape[1]\n",
        "\n",
        "    # Initialize parameters\n",
        "    parameters = initialize_parameters(input_size, hidden_size, output_size)\n",
        "\n",
        "    if optimizer == 'adam':\n",
        "        v, s, t = initialize_adam(parameters)\n",
        "    elif optimizer == 'rmsprop':\n",
        "        s = initialize_rmsprop(parameters)\n",
        "\n",
        "    loss_history = []\n",
        "\n",
        "    for epoch in range(epochs):\n",
        "        A2, cache = forward_propagation(X_train, parameters)\n",
        "\n",
        "        loss = compute_loss(y_train, A2)\n",
        "        loss_history.append(loss)\n",
        "\n",
        "        gradients = backward_propagation(X_train, y_train, parameters, cache)\n",
        "\n",
        "        if optimizer == 'adam':\n",
        "            parameters, v, s, t = update_parameters_with_adam(parameters, gradients, v, s, t, learning_rate)\n",
        "\n",
        "        elif optimizer == 'rmsprop':\n",
        "            parameters, s = update_parameters_with_rmsprop(parameters, gradients, s, learning_rate)\n",
        "\n",
        "        if (epoch) % 10 == 0 or epoch == 0:\n",
        "            print(f\"Epoch {epoch}/{epochs} - Loss: {loss:.4f}\")\n",
        "\n",
        "    return parameters, loss_history"
      ]
    },
    {
      "cell_type": "markdown",
      "metadata": {
        "id": "g5cPzN1ma9Xi"
      },
      "source": [
        "TODO:  Compare Both Optimizers. Create a function to train the model using both optimizers and plot the loss histories for comparison."
      ]
    },
    {
      "cell_type": "code",
      "execution_count": 15,
      "metadata": {
        "colab": {
          "base_uri": "https://localhost:8080/",
          "height": 827
        },
        "id": "-z5eRURgbDIG",
        "outputId": "d2a076ea-aac2-4b17-8a98-79e0f04013cb"
      },
      "outputs": [
        {
          "output_type": "stream",
          "name": "stdout",
          "text": [
            "\n",
            "Training with adam optimizer:\n",
            "Epoch 0/50 - Loss: 0.7011\n",
            "Epoch 10/50 - Loss: 1.1706\n",
            "Epoch 20/50 - Loss: 1.7457\n",
            "Epoch 30/50 - Loss: 1.8989\n",
            "Epoch 40/50 - Loss: 1.6965\n",
            "\n",
            "Training with rmsprop optimizer:\n",
            "Epoch 0/50 - Loss: 0.6091\n",
            "Epoch 10/50 - Loss: 1.4844\n",
            "Epoch 20/50 - Loss: 1.5965\n",
            "Epoch 30/50 - Loss: 1.4224\n",
            "Epoch 40/50 - Loss: 1.2272\n"
          ]
        },
        {
          "output_type": "display_data",
          "data": {
            "text/plain": [
              "<Figure size 1000x600 with 1 Axes>"
            ],
            "image/png": "[encoded data removed]"
          },
          "metadata": {}
        }
      ],
      "source": [
        "def compare_optimizers(X_train, y_train, hidden_size, epochs=50):\n",
        "    \"\"\"\n",
        "    Compare the Adam and RMSprop optimizers.\n",
        "\n",
        "    Parameters:\n",
        "    - X_train: Training data.\n",
        "    - y_train: One-hot encoded labels.\n",
        "    - hidden_size: Number of neurons in the hidden layer.\n",
        "    - epochs: Number of training epochs.\n",
        "    \"\"\"\n",
        "    optimizers = ['adam', 'rmsprop']\n",
        "    results = {}\n",
        "\n",
        "    for optimizer in optimizers:\n",
        "        print(f\"\\nTraining with {optimizer} optimizer:\")\n",
        "        parameters, loss_history = train_model(X_train, y_train, hidden_size=hidden_size, epochs=epochs, optimizer=optimizer)\n",
        "        results[optimizer] = loss_history\n",
        "\n",
        "    plt.figure(figsize=(10, 6))\n",
        "    for optimizer, loss_history in results.items():\n",
        "        plt.plot(range(epochs), loss_history, label=f\"{optimizer.capitalize()} Loss\")\n",
        "\n",
        "    plt.title(\"Optimizer Comparison: Adam vs RMSprop\")\n",
        "    plt.xlabel(\"Epochs\")\n",
        "    plt.ylabel(\"Loss\")\n",
        "    plt.legend()\n",
        "    plt.grid(True)\n",
        "    plt.show()\n",
        "\n",
        "    return results\n",
        "\n",
        "result = compare_optimizers(x_train, y_train, 32, epochs=50)"
      ]
    },
    {
      "cell_type": "markdown",
      "metadata": {
        "id": "pueHFmTUlXP5"
      },
      "source": [
        "## Stochastic Gradient Descent (SGD)"
      ]
    },
    {
      "cell_type": "markdown",
      "metadata": {
        "id": "3zrSW4LilXP5"
      },
      "source": [
        "### Impact of Different Learning Rates on SGD\n"
      ]
    },
    {
      "cell_type": "markdown",
      "metadata": {
        "id": "BU9BiBsKcWjb"
      },
      "source": [
        "Explore the impact of different learning rates on the training dynamics and performance of Stochastic Gradient Descent (SGD). This will allow us to observe how the learning rate affects convergence speed, stability, and final performance.\n",
        "\n",
        "Steps for Implementing the Experiment\n",
        "\n",
        "1. Define the SGD Optimizer: Implement a simple SGD optimizer.\n",
        "2. Modify the Training Loop: Allow for different learning rates.\n",
        "3. Train the Model: Run the training process with a set of predefined learning rates.\n",
        "4. Visualize the Results: Plot the loss curves for each learning rate to compare their effects"
      ]
    },
    {
      "cell_type": "markdown",
      "metadata": {
        "id": "vDRSuNVrcvVI"
      },
      "source": [
        "1. Implement SGD Optimizer\n"
      ]
    },
    {
      "cell_type": "code",
      "execution_count": 16,
      "metadata": {
        "id": "r9UE2OHfcwCe"
      },
      "outputs": [],
      "source": [
        "def update_parameters_with_sgd(parameters, gradients, learning_rate=0.01):\n",
        "    \"\"\"\n",
        "    Update parameters using Stochastic Gradient Descent (SGD).\n",
        "\n",
        "    Parameters:\n",
        "    - parameters: Current weights and biases.\n",
        "    - gradients: Calculated gradients.\n",
        "    - learning_rate: Learning rate for updates.\n",
        "\n",
        "\n",
        "    Returns:\n",
        "    - parameters: Updated weights and biases.\n",
        "    \"\"\"\n",
        "    for key in parameters:\n",
        "        parameters[key] -= learning_rate * gradients[f\"d{key}\"]\n",
        "\n",
        "    return parameters\n"
      ]
    },
    {
      "cell_type": "markdown",
      "metadata": {
        "id": "O4qIjyg9cyXB"
      },
      "source": [
        "2. Modify the Training Loop\n"
      ]
    },
    {
      "cell_type": "code",
      "execution_count": 27,
      "metadata": {
        "id": "U1gKM56IdBH-"
      },
      "outputs": [],
      "source": [
        "def train_model_with_sgd(X_train, y_train, hidden_size, epochs=50, learning_rate=0.01):\n",
        "    \"\"\"\n",
        "    Train the neural network model using SGD optimizer.\n",
        "\n",
        "    Parameters:\n",
        "    - X_train: Training data.\n",
        "    - y_train: One-hot encoded labels.\n",
        "    - hidden_size: Number of neurons in the hidden layer.\n",
        "    - epochs: Number of training epochs.\n",
        "    - learning_rate: Learning rate for optimization.\n",
        "\n",
        "    Returns:\n",
        "    - loss_history: List of loss values over epochs.\n",
        "    \"\"\"\n",
        "    input_size = X_train.shape[1] * X_train.shape[2]\n",
        "    output_size = y_train.shape[1]\n",
        "\n",
        "    parameters = initialize_parameters(input_size, hidden_size, output_size)\n",
        "    loss_history = []\n",
        "\n",
        "    for epoch in range(epochs):\n",
        "        A2, cache = forward_propagation(X_train, parameters)\n",
        "\n",
        "        loss = compute_loss(y_train, A2)\n",
        "        loss_history.append(loss)\n",
        "\n",
        "        gradients = backward_propagation(X_train, y_train, parameters, cache)\n",
        "\n",
        "        parameters = update_parameters_with_sgd(parameters, gradients, learning_rate)\n",
        "\n",
        "        if epoch % 10 == 0 or epoch == epochs - 1:\n",
        "            print(f\"Epoch {epoch}, Loss: {loss:.4f}\")\n",
        "\n",
        "    return loss_history"
      ]
    },
    {
      "cell_type": "markdown",
      "metadata": {
        "id": "CeQpjFQHdD4v"
      },
      "source": [
        "3. Experiment with Different Learning Rates\n"
      ]
    },
    {
      "cell_type": "code",
      "execution_count": 29,
      "metadata": {
        "colab": {
          "base_uri": "https://localhost:8080/",
          "height": 1000
        },
        "id": "FvFIXxFRdGDv",
        "outputId": "d230a593-8736-4258-a6c6-bab2111fe7f7"
      },
      "outputs": [
        {
          "output_type": "stream",
          "name": "stdout",
          "text": [
            "\n",
            "Training with learning rate: 0.001\n",
            "Epoch 0, Loss: 0.7118\n",
            "Epoch 10, Loss: 0.7531\n",
            "Epoch 20, Loss: 0.7918\n",
            "Epoch 30, Loss: 0.8302\n",
            "Epoch 40, Loss: 0.8699\n",
            "Epoch 49, Loss: 0.9077\n",
            "\n",
            "Training with learning rate: 0.01\n",
            "Epoch 0, Loss: 0.7397\n",
            "Epoch 10, Loss: 1.3619\n",
            "Epoch 20, Loss: 1.8283\n",
            "Epoch 30, Loss: 1.9824\n",
            "Epoch 40, Loss: 2.0012\n",
            "Epoch 49, Loss: 1.9776\n",
            "\n",
            "Training with learning rate: 0.1\n",
            "Epoch 0, Loss: 0.7603\n",
            "Epoch 10, Loss: 1.8645\n",
            "Epoch 20, Loss: 1.4721\n",
            "Epoch 30, Loss: 1.2302\n",
            "Epoch 40, Loss: 1.0960\n",
            "Epoch 49, Loss: 0.9845\n"
          ]
        },
        {
          "output_type": "display_data",
          "data": {
            "text/plain": [
              "<Figure size 1000x600 with 1 Axes>"
            ],
            "image/png": "[encoded data removed]"
          },
          "metadata": {}
        }
      ],
      "source": [
        "def compare_learning_rates(X_train, y_train, hidden_size, epochs=50, learning_rates=[0.001, 0.01, 0.1]):\n",
        "    \"\"\"\n",
        "    Compare the performance of SGD with different learning rates.\n",
        "\n",
        "    Parameters:\n",
        "    - X_train: Training data.\n",
        "    - y_train: One-hot encoded labels.\n",
        "    - hidden_size: Number of neurons in the hidden layer.\n",
        "    - epochs: Number of training epochs.\n",
        "    - learning_rates: List of learning rates to test.\n",
        "    \"\"\"\n",
        "    results = {}\n",
        "\n",
        "    for lr in learning_rates:\n",
        "        print(f\"\\nTraining with learning rate: {lr}\")\n",
        "        loss_history = train_model_with_sgd(X_train, y_train, hidden_size, epochs=epochs, learning_rate=lr)\n",
        "        results[lr] = loss_history\n",
        "\n",
        "    return results\n",
        "\n",
        "def plot_learning_rate_comparison(results, epochs):\n",
        "    \"\"\"\n",
        "    Plot the loss curves for different learning rates.\n",
        "\n",
        "    Parameters:\n",
        "    - results: Dictionary with learning rates as keys and loss histories as values.\n",
        "    - epochs: Number of training epochs.\n",
        "    \"\"\"\n",
        "    plt.figure(figsize=(10, 6))\n",
        "\n",
        "    for lr, loss_history in results.items():\n",
        "        plt.plot(range(1, epochs + 1), loss_history, label=f\"Learning Rate: {lr}\")\n",
        "\n",
        "    plt.title(\"SGD Learning Rate Comparison\")\n",
        "    plt.xlabel(\"Epochs\")\n",
        "    plt.ylabel(\"Loss\")\n",
        "    plt.legend()\n",
        "    plt.grid(True)\n",
        "    plt.show()\n",
        "\n",
        "hidden_size = 32\n",
        "learning_rates = [0.001, 0.01, 0.1]\n",
        "\n",
        "results = compare_learning_rates(x_train, y_train, hidden_size, epochs=50, learning_rates=learning_rates)\n",
        "plot_learning_rate_comparison(results, epochs=50)\n"
      ]
    },
    {
      "cell_type": "markdown",
      "metadata": {
        "id": "IXxuYU7llXP6"
      },
      "source": [
        "### SGD with Momentum vs. Classic SGD\n"
      ]
    },
    {
      "cell_type": "markdown",
      "metadata": {
        "id": "R8dcD51aepnC"
      },
      "source": [
        "TODO: Compare Stochastic Gradient Descent (SGD) with momentum and classic SGD, you can set up an experiment that trains the same model using both methods. This will help you observe differences in convergence speed and stability.\n",
        "\n",
        "Steps for Implementing the Comparison:\n",
        "\n",
        "1. Implement Classic SGD: Ensure you have a basic SGD implementation.(already implemented in the previous cells)\n",
        "\n",
        "2. Implement SGD with Momentum: Add a momentum version of the SGD optimizer.\n",
        "\n",
        "3. Modify the Training Loop: Allow for both optimizers in the training process.\n",
        "\n",
        "4. Train the Model: Run the training process using both optimizers.\n",
        "\n",
        "5. Visualize the Results: Plot the loss curves for each optimizer to compare their performance."
      ]
    },
    {
      "cell_type": "markdown",
      "metadata": {
        "id": "9-czqAXNe_nQ"
      },
      "source": [
        "2. Implement SGD with Momentum\n"
      ]
    },
    {
      "cell_type": "code",
      "execution_count": 30,
      "metadata": {
        "id": "8uzLkhWcfB6a"
      },
      "outputs": [],
      "source": [
        "def initialize_momentum(parameters):\n",
        "    \"\"\"\n",
        "    Initialize the momentum variables.\n",
        "\n",
        "    Parameters:\n",
        "    - parameters: Dictionary containing weights and biases.\n",
        "\n",
        "    Returns:\n",
        "    - v: Momentum variable (initialized to zeros).\n",
        "    \"\"\"\n",
        "    v = {}\n",
        "    for key in parameters:\n",
        "        v[key] = np.zeros_like(parameters[key])\n",
        "    return v\n",
        "\n",
        "def update_parameters_with_momentum(parameters, gradients, v, learning_rate=0.01, beta=0.9):\n",
        "    \"\"\"\n",
        "    Update parameters using SGD with momentum.\n",
        "\n",
        "    Parameters:\n",
        "    - parameters: Current weights and biases.\n",
        "    - gradients: Calculated gradients.\n",
        "    - v: Momentum variable.\n",
        "    - learning_rate: Learning rate for updates.\n",
        "    - beta: Exponential decay rate for momentum.\n",
        "\n",
        "    Returns:\n",
        "    - parameters: Updated weights and biases.\n",
        "    - v: Updated momentum variable.\n",
        "    \"\"\"\n",
        "    for key in parameters:\n",
        "        v[key] = beta * v[key] + (1 - beta) * gradients[f\"d{key}\"]\n",
        "        parameters[key] -= learning_rate * v[key]\n",
        "    return parameters, v\n"
      ]
    },
    {
      "cell_type": "markdown",
      "metadata": {
        "id": "k_DvOLijfIFK"
      },
      "source": [
        "3. Modify the Training Loop\n"
      ]
    },
    {
      "cell_type": "code",
      "execution_count": 32,
      "metadata": {
        "id": "uz3jxDtCfIuA"
      },
      "outputs": [],
      "source": [
        "def train_model(X_train, y_train, hidden_size, epochs=50, learning_rate=0.01, optimizer='sgd'):\n",
        "    \"\"\"\n",
        "    Train the neural network model using specified optimizer.\n",
        "\n",
        "    Parameters:\n",
        "    - X_train: Training data.\n",
        "    - y_train: One-hot encoded labels.\n",
        "    - hidden_size: Number of neurons in the hidden layer.\n",
        "    - epochs: Number of training epochs.\n",
        "    - learning_rate: Learning rate for optimization.\n",
        "    - optimizer: The optimizer to use ('sgd' or 'momentum').\n",
        "\n",
        "    Returns:\n",
        "    - loss_history: List of loss values over epochs.\n",
        "    \"\"\"\n",
        "    input_size = X_train.shape[1] * X_train.shape[2]\n",
        "    output_size = y_train.shape[1]\n",
        "\n",
        "    parameters = initialize_parameters(input_size, hidden_size, output_size)\n",
        "\n",
        "    if optimizer == 'momentum':\n",
        "        v = initialize_momentum(parameters)\n",
        "\n",
        "    loss_history = []\n",
        "    for epoch in range(epochs):\n",
        "        A3, cache = forward_propagation(X_train, parameters)\n",
        "\n",
        "        loss = compute_loss(y_train, A3)\n",
        "        loss_history.append(loss)\n",
        "\n",
        "        gradients = backward_propagation(X_train, y_train, parameters, cache)\n",
        "\n",
        "        if optimizer == 'momentum':\n",
        "            parameters, v = update_parameters_with_momentum(parameters, gradients, v, learning_rate)\n",
        "        elif optimizer == 'sgd':\n",
        "            parameters = update_parameters_with_sgd(parameters, gradients, learning_rate)\n",
        "\n",
        "        if epoch % 10 == 0 or epoch == epochs - 1:\n",
        "            print(f\"Epoch {epoch}, Loss({optimizer.capitalize()}): {loss:.4f}\")\n",
        "\n",
        "    return loss_history"
      ]
    },
    {
      "cell_type": "markdown",
      "metadata": {
        "id": "wVbv6XeYfLbf"
      },
      "source": [
        "4. Train the Model with Both Optimizers\n"
      ]
    },
    {
      "cell_type": "code",
      "execution_count": 33,
      "metadata": {
        "colab": {
          "base_uri": "https://localhost:8080/",
          "height": 862
        },
        "id": "0zEcNXJGfOTf",
        "outputId": "6a55a472-7bdb-4178-ced9-8cd2d93a05d1"
      },
      "outputs": [
        {
          "output_type": "stream",
          "name": "stdout",
          "text": [
            "\n",
            "Training with Classic SGD:\n",
            "Epoch 0, Loss(Sgd): 0.8150\n",
            "Epoch 10, Loss(Sgd): 1.3545\n",
            "Epoch 20, Loss(Sgd): 1.8238\n",
            "Epoch 30, Loss(Sgd): 1.9883\n",
            "Epoch 40, Loss(Sgd): 2.0136\n",
            "Epoch 49, Loss(Sgd): 1.9936\n",
            "\n",
            "Training with SGD with Momentum:\n",
            "Epoch 0, Loss(Momentum): 0.6431\n",
            "Epoch 10, Loss(Momentum): 0.9683\n",
            "Epoch 20, Loss(Momentum): 1.6848\n",
            "Epoch 30, Loss(Momentum): 2.3226\n",
            "Epoch 40, Loss(Momentum): 2.4100\n",
            "Epoch 49, Loss(Momentum): 2.2113\n"
          ]
        },
        {
          "output_type": "display_data",
          "data": {
            "text/plain": [
              "<Figure size 1000x600 with 1 Axes>"
            ],
            "image/png": "[encoded data removed]"
          },
          "metadata": {}
        }
      ],
      "source": [
        "def compare_sgd_and_momentum(X_train, y_train, hidden_size, epochs=50):\n",
        "    \"\"\"\n",
        "    Compare the performance of classic SGD and SGD with momentum.\n",
        "\n",
        "    Parameters:\n",
        "    - X_train: Training data.\n",
        "    - y_train: One-hot encoded labels.\n",
        "    - hidden_size: Number of neurons in the hidden layer.\n",
        "    - epochs: Number of training epochs.\n",
        "    \"\"\"\n",
        "    results = {}\n",
        "\n",
        "    print(\"\\nTraining with Classic SGD:\")\n",
        "    loss_sgd = train_model(X_train, y_train, hidden_size, epochs=epochs, learning_rate=learning_rate, optimizer='sgd')\n",
        "    results[\"Classic SGD\"] = loss_sgd\n",
        "\n",
        "    print(\"\\nTraining with SGD with Momentum:\")\n",
        "    loss_momentum = train_model(X_train, y_train, hidden_size, epochs=epochs, learning_rate=learning_rate, optimizer='momentum')\n",
        "    results[\"SGD with Momentum\"] = loss_momentum\n",
        "\n",
        "    return results\n",
        "\n",
        "def plot_sgd_and_momentum_comparison(results, epochs):\n",
        "    \"\"\"\n",
        "    Plot the loss curves for classic SGD and SGD with momentum.\n",
        "\n",
        "    Parameters:\n",
        "    - results: Dictionary containing loss histories for both optimizers.\n",
        "    - epochs: Number of training epochs.\n",
        "    \"\"\"\n",
        "    plt.figure(figsize=(10, 6))\n",
        "    for optimizer, loss_history in results.items():\n",
        "        plt.plot(range(1, epochs + 1), loss_history, label=optimizer)\n",
        "\n",
        "    plt.title(\"Classic SGD vs. SGD with Momentum\")\n",
        "    plt.xlabel(\"Epochs\")\n",
        "    plt.ylabel(\"Loss\")\n",
        "    plt.legend()\n",
        "    plt.grid(True)\n",
        "    plt.show()\n",
        "\n",
        "hidden_size = 32\n",
        "epochs = 50\n",
        "learning_rate = 0.01\n",
        "\n",
        "results = compare_sgd_and_momentum(x_train, y_train, hidden_size, epochs=epochs)\n",
        "\n",
        "plot_sgd_and_momentum_comparison(results, epochs)\n"
      ]
    },
    {
      "cell_type": "markdown",
      "metadata": {
        "id": "OhaXIjuClXP6"
      },
      "source": [
        "## Mini-Batch Gradient Descent"
      ]
    },
    {
      "cell_type": "markdown",
      "metadata": {
        "id": "wpBVHm6elXP6"
      },
      "source": [
        "### Mini-Batch Size Optimization"
      ]
    },
    {
      "cell_type": "markdown",
      "metadata": {
        "id": "rUDwKXOAgc2h"
      },
      "source": [
        "TODO: Investigate how different mini-batch sizes affect model performance, you can set up an experiment where you train the same model using various mini-batch sizes.\n",
        "\n",
        "Steps for Implementing the Mini-Batch Size Experiment\n",
        "\n",
        "1. Modify the Training Loop: Update the training loop to use mini-batches.\n",
        "2. Train the Model: Run the training process with a set of predefined mini-batch sizes.\n",
        "3. Evaluate Performance: Track training time and accuracy for each mini-batch size.\n",
        "4. Print the training losses and accuracies for comparison."
      ]
    },
    {
      "cell_type": "markdown",
      "metadata": {
        "id": "sz2dJu_PgvJH"
      },
      "source": [
        "1. Modify the Training Loop for Mini-Batches\n"
      ]
    },
    {
      "cell_type": "code",
      "execution_count": 35,
      "metadata": {
        "id": "2eBWqUKwgqqN"
      },
      "outputs": [],
      "source": [
        "def train_model_with_mini_batches(X_train, y_train, hidden_size, epochs=50, learning_rate=0.01, batch_size=32):\n",
        "    \"\"\"\n",
        "    Train the neural network model using mini-batches.\n",
        "\n",
        "    Parameters:\n",
        "    - X_train: Training data.\n",
        "    - y_train: One-hot encoded labels.\n",
        "    - hidden_size: Number of neurons in the hidden layer.\n",
        "    - epochs: Number of training epochs.\n",
        "    - learning_rate: Learning rate for optimization.\n",
        "    - batch_size: Size of mini-batches.\n",
        "\n",
        "    Returns:\n",
        "    - loss_history: List of loss values over epochs.\n",
        "    - accuracy_history: List of accuracy values over epochs.\n",
        "    \"\"\"\n",
        "    input_size = X_train.shape[1] * X_train.shape[2]\n",
        "    output_size = y_train.shape[1]\n",
        "\n",
        "    parameters = initialize_parameters(input_size, hidden_size, output_size)\n",
        "\n",
        "    indices = np.arange(X_train.shape[0])\n",
        "    loss_history = []\n",
        "    accuracy_history = []\n",
        "\n",
        "    for epoch in range(epochs):\n",
        "        np.random.shuffle(indices)\n",
        "        X_train = X_train[indices]\n",
        "        y_train = y_train[indices]\n",
        "\n",
        "        epoch_loss = 0\n",
        "        correct_predictions = 0\n",
        "\n",
        "        for i in range(0, X_train.shape[0], batch_size):\n",
        "            X_batch = X_train[i:i + batch_size]\n",
        "            y_batch = y_train[i:i + batch_size]\n",
        "\n",
        "            A3, cache = forward_propagation(X_batch, parameters)\n",
        "\n",
        "            batch_loss = compute_loss(y_batch, A3)\n",
        "            epoch_loss += batch_loss * X_batch.shape[0]\n",
        "\n",
        "            gradients = backward_propagation(X_batch, y_batch, parameters, cache)\n",
        "\n",
        "            parameters = update_parameters_with_sgd(parameters, gradients, learning_rate)\n",
        "\n",
        "            batch_predictions = np.argmax(A3, axis=1)\n",
        "            batch_labels = np.argmax(y_batch, axis=1)\n",
        "            correct_predictions += np.sum(batch_predictions == batch_labels)\n",
        "\n",
        "        epoch_loss /= X_train.shape[0]\n",
        "        loss_history.append(epoch_loss)\n",
        "\n",
        "        epoch_accuracy = correct_predictions / X_train.shape[0]\n",
        "        accuracy_history.append(epoch_accuracy)\n",
        "\n",
        "        if epoch % 10 == 0 or epoch == epochs - 1:\n",
        "            print(f\"Epoch {epoch} - Loss: {epoch_loss:.4f}, Accuracy: {epoch_accuracy:.4f}\")\n",
        "\n",
        "    return loss_history, accuracy_history\n"
      ]
    },
    {
      "cell_type": "markdown",
      "metadata": {
        "id": "ja1aWHjwgwMl"
      },
      "source": [
        "2. Train the Model with Different Mini-Batch Sizes\n"
      ]
    },
    {
      "cell_type": "code",
      "execution_count": 36,
      "metadata": {
        "colab": {
          "base_uri": "https://localhost:8080/"
        },
        "id": "R7vvj-y_is_k",
        "outputId": "c1875d17-8f01-4bed-c7a0-726e78bba6ce"
      },
      "outputs": [
        {
          "output_type": "stream",
          "name": "stdout",
          "text": [
            "\n",
            "Training with batch size: 16\n",
            "Epoch 0 - Loss: 0.7929, Accuracy: 0.7217\n",
            "Epoch 10 - Loss: 0.3785, Accuracy: 0.8725\n",
            "Epoch 20 - Loss: 0.3364, Accuracy: 0.8855\n",
            "Epoch 30 - Loss: 0.3137, Accuracy: 0.8937\n",
            "Epoch 40 - Loss: 0.2966, Accuracy: 0.8991\n",
            "Epoch 49 - Loss: 0.2865, Accuracy: 0.9029\n",
            "\n",
            "Training with batch size: 32\n",
            "Epoch 0 - Loss: 0.9229, Accuracy: 0.6843\n",
            "Epoch 10 - Loss: 0.4248, Accuracy: 0.8592\n",
            "Epoch 20 - Loss: 0.3774, Accuracy: 0.8743\n",
            "Epoch 30 - Loss: 0.3521, Accuracy: 0.8820\n",
            "Epoch 40 - Loss: 0.3332, Accuracy: 0.8880\n",
            "Epoch 49 - Loss: 0.3204, Accuracy: 0.8926\n",
            "\n",
            "Training with batch size: 64\n",
            "Epoch 0 - Loss: 1.1418, Accuracy: 0.6013\n",
            "Epoch 10 - Loss: 0.4879, Accuracy: 0.8417\n",
            "Epoch 20 - Loss: 0.4334, Accuracy: 0.8579\n",
            "Epoch 30 - Loss: 0.4020, Accuracy: 0.8681\n",
            "Epoch 40 - Loss: 0.3807, Accuracy: 0.8748\n",
            "Epoch 49 - Loss: 0.3661, Accuracy: 0.8796\n"
          ]
        }
      ],
      "source": [
        "def compare_mini_batch_sizes(X_train, y_train, hidden_size, epochs=50, batch_sizes=[16, 32, 64]):\n",
        "    \"\"\"\n",
        "    Compare the performance of different mini-batch sizes and print results.\n",
        "\n",
        "    Parameters:\n",
        "    - X_train: Training data.\n",
        "    - y_train: One-hot encoded labels.\n",
        "    - hidden_size: Number of neurons in the hidden layer.\n",
        "    - epochs: Number of training epochs.\n",
        "    - batch_sizes: List of mini-batch sizes to test.\n",
        "    \"\"\"\n",
        "    results = {}\n",
        "\n",
        "    for batch_size in batch_sizes:\n",
        "        print(f\"\\nTraining with batch size: {batch_size}\")\n",
        "        loss_history, accuracy_history = train_model_with_mini_batches(X_train, y_train, hidden_size, epochs, learning_rate, batch_size)\n",
        "        results[batch_size] = {\"loss_history\": loss_history, \"accuracy_history\": accuracy_history}\n",
        "\n",
        "    return results\n",
        "\n",
        "results = compare_mini_batch_sizes(x_train, y_train, hidden_size, epochs=50, batch_sizes=[16, 32, 64])"
      ]
    },
    {
      "cell_type": "markdown",
      "metadata": {
        "id": "wb3WXFgMlXP7"
      },
      "source": [
        "### Mini-Batch vs. Full-Batch Gradient Descent\n"
      ]
    },
    {
      "cell_type": "markdown",
      "metadata": {
        "id": "vVvy9f6PlPCS"
      },
      "source": [
        "TODO: Compare the efficiency and performance of mini-batch gradient descent against full-batch gradient descent.\n",
        "\n",
        "1. Implement Full-Batch Gradient Descent: Ensure you have a full-batch gradient descent implementation.\n",
        "\n",
        "2. Modify the Training Loop: Allow the training loop to handle both mini-batch and full-batch scenarios.\n",
        "\n",
        "3. Train the Model: Run the training process using both methods and track their performance.\n",
        "\n",
        "4. Print Results: Display the final loss and accuracy for both methods along with training times."
      ]
    },
    {
      "cell_type": "code",
      "execution_count": 24,
      "metadata": {
        "id": "tlTYBB2tlgBG"
      },
      "outputs": [],
      "source": [
        "def train_model_full_batch(X_train, y_train, hidden_size, epochs=50, learning_rate=0.01):\n",
        "    \"\"\"\n",
        "    Train the neural network model using full-batch gradient descent.\n",
        "\n",
        "    Parameters:\n",
        "    - X_train: Training data.\n",
        "    - y_train: One-hot encoded labels.\n",
        "    - hidden_size: Number of neurons in the hidden layer.\n",
        "    - epochs: Number of training epochs.\n",
        "    - learning_rate: Learning rate for optimization.\n",
        "\n",
        "    Returns:\n",
        "    - loss_history: List of loss values over epochs.\n",
        "    - accuracy_history: List of accuracy values over epochs.\n",
        "    \"\"\"\n",
        "    input_size = X_train.shape[1] * X_train.shape[2]\n",
        "    output_size = y_train.shape[1]\n",
        "\n",
        "    parameters = initialize_parameters(input_size, hidden_size, output_size)\n",
        "\n",
        "    loss_history = []\n",
        "    accuracy_history = []\n",
        "\n",
        "    for epoch in range(epochs):\n",
        "        A2, cache = forward_propagation(X_train, parameters)\n",
        "\n",
        "        loss = compute_loss(y_train, A2)\n",
        "        loss_history.append(loss)\n",
        "\n",
        "        gradient = backward_propagation(X_train, y_train, parameters, cache)\n",
        "\n",
        "        param = update_parameters_with_sgd(parameters, gradient, learning_rate)\n",
        "\n",
        "        pred = np.argmax(A2, axis=1)\n",
        "        labels = np.argmax(y_train, axis=1)\n",
        "        accuracy = np.mean(pred == labels)\n",
        "        accuracy_history.append(accuracy)\n",
        "\n",
        "        if epoch % 10 == 0 or epoch == epochs - 1:\n",
        "            print(f\"Full-Batch - Epoch {epoch} Loss: {loss:.4f}, Accuracy: {accuracy:.4f}\")\n",
        "\n",
        "    return loss_history, accuracy_history\n"
      ]
    },
    {
      "cell_type": "code",
      "execution_count": 25,
      "metadata": {
        "id": "YIb4-9eGllGi"
      },
      "outputs": [],
      "source": [
        "\n",
        "\n",
        "def compare_mini_batch_and_full_batch(X_train, y_train, hidden_size, epochs=50, batch_size=32):\n",
        "    \"\"\"\n",
        "    Compare the performance of mini-batch gradient descent against full-batch gradient descent.\n",
        "\n",
        "    Parameters:\n",
        "    - X_train: Training data.\n",
        "    - y_train: One-hot encoded labels.\n",
        "    - hidden_size: Number of neurons in the hidden layer.\n",
        "    - epochs: Number of training epochs.\n",
        "    - batch_size: Size of mini-batches for mini-batch gradient descent.\n",
        "    \"\"\"\n",
        "    results = {}\n",
        "\n",
        "    # Train with Full-Batch Gradient Descent\n",
        "    print(\"\\nTraining with Full-Batch Gradient Descent:\")\n",
        "    start_time = time.time()\n",
        "    loss_full_batch, acc_full_batch = train_model_full_batch(X_train, y_train, hidden_size, epochs, learning_rate)\n",
        "    full_batch_time = time.time() - start_time\n",
        "    results[\"Full-Batch\"] = {\n",
        "        \"loss_history\": loss_full_batch,\n",
        "        \"accuracy_history\": acc_full_batch,\n",
        "        \"time\": full_batch_time\n",
        "    }\n",
        "\n",
        "    # Train with Mini-Batch Gradient Descent\n",
        "    print(\"\\nTraining with Mini-Batch Gradient Descent:\")\n",
        "    start_time = time.time()\n",
        "    loss_mini_batch, acc_mini_batch = train_model_with_mini_batches(X_train, y_train, hidden_size, epochs, learning_rate, batch_size)\n",
        "    mini_batch_time = time.time() - start_time\n",
        "    results[\"Mini-Batch\"] = {\n",
        "        \"loss_history\": loss_mini_batch,\n",
        "        \"accuracy_history\": acc_mini_batch,\n",
        "        \"time\": mini_batch_time\n",
        "    }\n",
        "\n",
        "    # Print final results\n",
        "    print(\"\\nFinal Results:\")\n",
        "    for method, metrics in results.items():\n",
        "        print(f\"{method} - Final Loss: {metrics['loss_history'][-1]:.4f}, Final Accuracy: {metrics['accuracy_history'][-1]:.4f}, Training Time: {metrics['time']:.2f}s\")\n",
        "\n",
        "    return results\n",
        "\n",
        "results = compare_mini_batch_and_full_batch(x_train, y_train, hidden_size, epochs=50, batch_size=32)\n"
      ]
    }
  ],
  "metadata": {
    "colab": {
      "provenance": []
    },
    "kernelspec": {
      "display_name": "Python 3",
      "name": "python3"
    },
    "language_info": {
      "codemirror_mode": {
        "name": "ipython",
        "version": 3
      },
      "file_extension": ".py",
      "mimetype": "text/x-python",
      "name": "python",
      "nbconvert_exporter": "python",
      "pygments_lexer": "ipython3",
      "version": "3.10.5"
    }
  },
  "nbformat": 4,
  "nbformat_minor": 0
}